{
  "cells": [
    {
      "cell_type": "markdown",
      "metadata": {
        "id": "view-in-github",
        "colab_type": "text"
      },
      "source": [
        "<a href=\"https://colab.research.google.com/github/Aniekanukpono/Group_Q_Mini_Project/blob/main/Group_Q_mini_laptop_price_project.ipynb\" target=\"_parent\"><img src=\"https://colab.research.google.com/assets/colab-badge.svg\" alt=\"Open In Colab\"/></a>"
      ]
    },
    {
      "cell_type": "code",
      "execution_count": null,
      "metadata": {
        "collapsed": true,
        "id": "mDU_ttNowkrU"
      },
      "outputs": [],
      "source": [
        "!pip install ydata_profiling"
      ]
    },
    {
      "cell_type": "markdown",
      "metadata": {
        "id": "rESkfC_BRy4g"
      },
      "source": [
        "Import Libraries needed"
      ]
    },
    {
      "cell_type": "code",
      "execution_count": null,
      "metadata": {
        "id": "V3XJ9MjaukEX"
      },
      "outputs": [],
      "source": [
        "\n",
        "%matplotlib inline\n",
        "import numpy as np\n",
        "import pandas as pd\n",
        "import matplotlib.pyplot as plt\n",
        "import seaborn as sns\n",
        "from sklearn.model_selection import train_test_split as split\n",
        "from sklearn.linear_model import LinearRegression\n",
        "from sklearn.preprocessing import OneHotEncoder, StandardScaler\n",
        "from sklearn.compose import ColumnTransformer\n",
        "from sklearn.pipeline import Pipeline\n",
        "from sklearn.metrics import mean_squared_error, r2_score\n",
        "from ydata_profiling import ProfileReport"
      ]
    },
    {
      "cell_type": "code",
      "execution_count": null,
      "metadata": {
        "id": "XBtXjABPNv2R"
      },
      "outputs": [],
      "source": [
        "# load dataset from the GitHub repository\n",
        "df = pd.read_csv(\"https://raw.githubusercontent.com/Aniekanukpono/Group_Q_Mini_Project/471a105b944226b0d821b0c6cde0081f11d26004/laptop_price.csv\", encoding='latin-1')"
      ]
    },
    {
      "cell_type": "markdown",
      "metadata": {
        "id": "S-ihVY3OiK6e"
      },
      "source": [
        "Dataset Overview"
      ]
    },
    {
      "cell_type": "code",
      "execution_count": null,
      "metadata": {
        "id": "HByXW-eMRoct"
      },
      "outputs": [],
      "source": [
        "df.head()"
      ]
    },
    {
      "cell_type": "code",
      "execution_count": null,
      "metadata": {
        "id": "9aB3yB3ldKut"
      },
      "outputs": [],
      "source": [
        "df.tail()"
      ]
    },
    {
      "cell_type": "code",
      "execution_count": null,
      "metadata": {
        "id": "2VMgIYj9hEQJ"
      },
      "outputs": [],
      "source": [
        "df.columns"
      ]
    },
    {
      "cell_type": "code",
      "execution_count": null,
      "metadata": {
        "id": "hunCVbrNyG4v"
      },
      "outputs": [],
      "source": [
        "df.sample(5)"
      ]
    },
    {
      "cell_type": "code",
      "execution_count": null,
      "metadata": {
        "id": "h8rz7vIlRuv6"
      },
      "outputs": [],
      "source": [
        "df.info()"
      ]
    },
    {
      "cell_type": "code",
      "execution_count": null,
      "metadata": {
        "id": "EK-eg55qdUWz"
      },
      "outputs": [],
      "source": [
        "df.describe()"
      ]
    },
    {
      "cell_type": "code",
      "execution_count": null,
      "metadata": {
        "id": "AoDBv6Scdday"
      },
      "outputs": [],
      "source": [
        "df.describe(include = \"object\")"
      ]
    },
    {
      "cell_type": "markdown",
      "metadata": {
        "id": "I7cUN17iik0X"
      },
      "source": [
        "Data Cleaning And Analysis"
      ]
    },
    {
      "cell_type": "code",
      "execution_count": null,
      "metadata": {
        "id": "RfNu3nk8fAkv"
      },
      "outputs": [],
      "source": [
        "# Dropping the laptop_ID\n",
        "df = df.drop(columns= \"ï»¿laptop_ID\")\n",
        "df.head()"
      ]
    },
    {
      "cell_type": "code",
      "execution_count": null,
      "metadata": {
        "id": "hmcLxmGuhX3Z"
      },
      "outputs": [],
      "source": [
        "# Change columns name making it easily readable\n",
        "df = df.rename(columns = {\"Price_euros\": \"Price\", \"OpSys\": \"Operating_System\"})"
      ]
    },
    {
      "cell_type": "code",
      "execution_count": null,
      "metadata": {
        "id": "YxuMtyPfPUtq"
      },
      "outputs": [],
      "source": [
        "# Remove duplicate samples\n",
        "df = df.drop_duplicates()\n",
        "df.head()"
      ]
    },
    {
      "cell_type": "code",
      "execution_count": null,
      "metadata": {
        "id": "8L8Zq5LljmwP"
      },
      "outputs": [],
      "source": [
        "df.isnull().sum()"
      ]
    },
    {
      "cell_type": "code",
      "execution_count": null,
      "metadata": {
        "id": "Swrzy8zxuCA-"
      },
      "outputs": [],
      "source": [
        "# Filling null value with the most frequent value (mode) for 'Gpu' and median for 'Weight'\n",
        "df['Gpu'] = df['Gpu'].fillna(df['Gpu'].mode()[0])\n",
        "df['Weight'] = df['Weight'].str.replace('kg', '').astype(float)\n",
        "df['Weight'] = df['Weight'].fillna(df['Weight'].median())\n",
        "\n",
        "df.isnull().sum()"
      ]
    },
    {
      "cell_type": "code",
      "execution_count": null,
      "metadata": {
        "id": "SpQMZo69uiTf"
      },
      "outputs": [],
      "source": [
        "# Value count of columns\n",
        "for column in df.columns:\n",
        "  print(f\"{df[column].value_counts()} \\n\")"
      ]
    },
    {
      "cell_type": "code",
      "execution_count": null,
      "metadata": {
        "id": "2Y0zr1D_xeV_"
      },
      "outputs": [],
      "source": [
        "# Countplot for all non-numeric columns\n",
        "\n",
        "for column in df.select_dtypes(include= \"object\"):\n",
        " plt.figure(figsize = (20,5))\n",
        " sns.countplot(data= df, x =column)\n",
        " plt.title(f\"Count Plot For {column}\".capitalize())\n",
        " plt.xticks(rotation = 90)\n",
        " plt.show()"
      ]
    },
    {
      "cell_type": "code",
      "execution_count": null,
      "metadata": {
        "id": "P7--IXmb8D5e"
      },
      "outputs": [],
      "source": [
        "# Barplot for all non-numeric columns by Price\n",
        "\n",
        "for column in df.select_dtypes(include= \"object\"):\n",
        " plt.figure(figsize = (20,5))\n",
        " sns.barplot(data= df, x =column, y= \"Price\")\n",
        " plt.title(f\"Bar Plot For {column} Vs Price in Euros(£)\".capitalize())\n",
        " plt.xticks(rotation = 90)\n",
        " plt.show()"
      ]
    },
    {
      "cell_type": "code",
      "execution_count": null,
      "metadata": {
        "id": "s-pbIZgV3uIw"
      },
      "outputs": [],
      "source": [
        "df.info()"
      ]
    },
    {
      "cell_type": "markdown",
      "metadata": {
        "id": "hVFjMCH2m8k6"
      },
      "source": [
        "Creation And Training Models"
      ]
    },
    {
      "cell_type": "code",
      "execution_count": null,
      "metadata": {
        "id": "JfdObvR73uIy"
      },
      "outputs": [],
      "source": [
        "x = df.drop(columns = [\"Price\", \"Inches\", \"Weight\"], axis=1 ) # Dropping columns that are not needed\n",
        "y = df[\"Price\"] # target variable"
      ]
    },
    {
      "cell_type": "code",
      "execution_count": null,
      "metadata": {
        "id": "uIK6b_YsABVA"
      },
      "outputs": [],
      "source": [
        "x_train, x_test, y_train, y_test = split(x, y, test_size= 0.35, random_state=0)"
      ]
    },
    {
      "cell_type": "code",
      "execution_count": null,
      "metadata": {
        "id": "GT4wugp0m88X"
      },
      "outputs": [],
      "source": [
        "print(x_train.shape, y_train.shape)"
      ]
    },
    {
      "cell_type": "code",
      "execution_count": null,
      "metadata": {
        "id": "kzclVVrD3uI3"
      },
      "outputs": [],
      "source": [
        "# Identify categorical and numeric columns\n",
        "categorical_columns = x.select_dtypes(include=['object']).columns\n",
        "numerical_columns = x.select_dtypes(exclude=['object']).columns"
      ]
    },
    {
      "cell_type": "code",
      "execution_count": null,
      "metadata": {
        "id": "OpE9H7lbAxvO"
      },
      "outputs": [],
      "source": [
        "# Transformer using encode categorical and scale numeric\n",
        "preprocessor = ColumnTransformer(\n",
        "    transformers=[\n",
        "        ('category', OneHotEncoder(handle_unknown='ignore'), categorical_columns),\n",
        "        ('number', StandardScaler(), numerical_columns)\n",
        "    ]\n",
        ")"
      ]
    },
    {
      "cell_type": "code",
      "execution_count": null,
      "metadata": {
        "id": "ZBdxKXzJ3uI6"
      },
      "outputs": [],
      "source": [
        "# Pipeline: preprocessing + model\n",
        "model = Pipeline(steps=[\n",
        "    ('preprocessor', preprocessor),\n",
        "    ('regressor', LinearRegression())\n",
        "])"
      ]
    },
    {
      "cell_type": "code",
      "execution_count": null,
      "metadata": {
        "id": "88ZmndPY3uI8"
      },
      "outputs": [],
      "source": [
        "# Train\n",
        "model.fit(x_train, y_train)"
      ]
    },
    {
      "cell_type": "code",
      "execution_count": null,
      "metadata": {
        "id": "F2vgiY5R3uI-"
      },
      "outputs": [],
      "source": [
        "# Evaluate model\n",
        "predictions = model.predict(x_test)\n",
        "mse = mean_squared_error(y_test, predictions)\n",
        "r2 = r2_score(y_test, predictions)\n",
        "\n",
        "print(\"Mean Squared Error:\", mse)\n",
        "print(\"R² Score:\", r2)"
      ]
    },
    {
      "cell_type": "markdown",
      "metadata": {
        "id": "UWr7zTAtK5mx"
      },
      "source": [
        "Create data report using Ydata"
      ]
    },
    {
      "cell_type": "code",
      "execution_count": null,
      "metadata": {
        "collapsed": true,
        "id": "tMBMwLOZ3uJL"
      },
      "outputs": [],
      "source": [
        "report = ProfileReport(df, title='Group Q Project Report',explorative=True)"
      ]
    },
    {
      "cell_type": "code",
      "execution_count": null,
      "metadata": {
        "id": "pPIvU0xAMYek"
      },
      "outputs": [],
      "source": [
        "report.to_file(\"Group Q Project Report.html\")"
      ]
    }
  ],
  "metadata": {
    "colab": {
      "provenance": [],
      "include_colab_link": true
    },
    "kernelspec": {
      "display_name": "Python 3 (ipykernel)",
      "language": "python",
      "name": "python3"
    },
    "language_info": {
      "codemirror_mode": {
        "name": "ipython",
        "version": 3
      },
      "file_extension": ".py",
      "mimetype": "text/x-python",
      "name": "python",
      "nbconvert_exporter": "python",
      "pygments_lexer": "ipython3",
      "version": "3.13.2"
    }
  },
  "nbformat": 4,
  "nbformat_minor": 0
}